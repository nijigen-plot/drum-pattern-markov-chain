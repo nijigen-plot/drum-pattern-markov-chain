{
 "cells": [
  {
   "cell_type": "code",
   "execution_count": 1,
   "metadata": {},
   "outputs": [],
   "source": [
    "from glob import glob\n",
    "from drum_midi_translator import TextToMidi, MidiToText\n",
    "import markovify\n",
    "from mido import MidiFile\n",
    "%load_ext autoreload\n",
    "%autoreload 2"
   ]
  },
  {
   "cell_type": "markdown",
   "metadata": {},
   "source": [
    "### ドラムパターンMIDIファイルを文字列化"
   ]
  },
  {
   "cell_type": "code",
   "execution_count": 2,
   "metadata": {},
   "outputs": [
    {
     "name": "stdout",
     "output_type": "stream",
     "text": [
      "9個のMIDIファイル情報を読み込みました\n",
      "['example_midi_file/Example_1.mid', 'example_midi_file/Example_2.mid', 'example_midi_file/Example_3.mid', 'example_midi_file/Example_4.mid', 'example_midi_file/Example_5.mid', 'example_midi_file/Example_6.mid', 'example_midi_file/Example_7.mid', 'example_midi_file/Example_8.mid', 'example_midi_file/Example_9.mid']\n"
     ]
    }
   ],
   "source": [
    "# 読み込み対象のMIDIファイルをすべて読み込む\n",
    "target_midi_directory = glob('example_midi_file/*.mid')\n",
    "target_midi_data = [MidiFile(f) for f in target_midi_directory]\n",
    "print(f\"{len(target_midi_data)}個のMIDIファイル情報を読み込みました\")\n",
    "print(target_midi_directory)"
   ]
  },
  {
   "cell_type": "code",
   "execution_count": 3,
   "metadata": {},
   "outputs": [],
   "source": [
    "MTT = MidiToText()\n",
    "translate_texts = [MTT.transform(tmd, separate_time=240) for tmd in target_midi_data]"
   ]
  },
  {
   "cell_type": "code",
   "execution_count": 4,
   "metadata": {},
   "outputs": [
    {
     "data": {
      "text/plain": [
       "['C8h+A8h C8h+E8h+A8m D8h+A8h C8h+A8m A8h+E8h+C8h D8h+A8m E16h+A16h_E16m+A16m C16h+A16h_C16m+A16m',\n",
       " 'C8h C8h+E8h+A8h D8h C16m+A16m_A16h+C16h N8h D8h C16m+A16m_C16h+A16h N8h C8h A8h+E8h D8h+A8h E8h+A8h C16h+A16m_A16h A16m+D16h_A16h D16m+A16m_D16h+A16h D16m+A16m_A16h+D8h',\n",
       " 'C8h+A8h E8h+A8m D8h+A8h C8h+A8m A8h+E8h D8h+A8m E16h+A16h_E16m+A16m C16h+A16h_C8m+A8m',\n",
       " 'C8h E8h+B8h D8h E16h+A16h_E16h+A16m C16h_C16h D8h+B8h E16h+A16h_A16m+E16h C16h_C16m C8h E8h+B8h D8h C8h E8h+B8h D8h E16h+A16h_E16h+A16m C16h_C16m',\n",
       " 'E16h_E16m E16h+A16h_E16m E16h_E16m E16h+A16h_E16m E16h_E16m E16h+A16h_E16m E16h_E16m E16h+A16h_E16m',\n",
       " 'E8h+B8h E16h+A16h_E16m E8h+B8h E16h+A16h_E16m E8h+B8h E16h+A16h_E16m E8h+B8h E16h+A16h_E16m',\n",
       " 'C16h_C16h C16h_C16h D8h+B8h C16h_C32h_C32h C16h_E16h A16h_A16h A16h_A16h D16h_D16h',\n",
       " 'C8h B8h D8h C8h B8h D8h C8h B8h',\n",
       " 'C8h B8h D8h B8h C16h_C16h D8h+B8m B8h C16h_C16h']"
      ]
     },
     "execution_count": 4,
     "metadata": {},
     "output_type": "execute_result"
    }
   ],
   "source": [
    "translate_texts"
   ]
  },
  {
   "cell_type": "markdown",
   "metadata": {},
   "source": [
    "### マルコフ連鎖でドラムパターンを生成"
   ]
  },
  {
   "cell_type": "code",
   "execution_count": 5,
   "metadata": {},
   "outputs": [],
   "source": [
    "parsed_text = '\\n'.join([t + '.' for t in translate_texts])\n",
    "text_model = markovify.Text(parsed_text, state_size=2)"
   ]
  },
  {
   "cell_type": "code",
   "execution_count": 6,
   "metadata": {},
   "outputs": [
    {
     "name": "stdout",
     "output_type": "stream",
     "text": [
      "C16h_C16h C16h_C16h D8h+B8h E16h+A16h_A16m+E16h C16h_C16m C8h E8h+B8h D8h E16h+A16h_E16h+A16m C16h_C16h D8h+B8h C16h_C32h_C32h C16h_E16h A16h_A16h A16h_A16h D16h_D16h.\n",
      "C8h+A8h C8h+E8h+A8m D8h+A8h C8h+A8m A8h+E8h D8h+A8m E16h+A16h_E16m+A16m C16h+A16h_C16m+A16m.\n",
      "C16h_C16h C16h_C16h D8h+B8h E16h+A16h_A16m+E16h C16h_C16m C8h E8h+B8h D8h E16h+A16h_E16h+A16m C16h_C16h D8h+B8h C16h_C32h_C32h C16h_E16h A16h_A16h A16h_A16h D16h_D16h.\n",
      "C8h E8h+B8h D8h C8h B8h D8h C8h B8h.\n",
      "C8h+A8h C8h+E8h+A8m D8h+A8h C8h+A8m A8h+E8h D8h+A8m E16h+A16h_E16m+A16m C16h+A16h_C8m+A8m.\n",
      "C8h B8h D8h C8h E8h+B8h D8h C8h E8h+B8h D8h E16h+A16h_E16h+A16m C16h_C16m.\n",
      "C8h+A8h C8h+E8h+A8m D8h+A8h C8h+A8m A8h+E8h D8h+A8m E16h+A16h_E16m+A16m C16h+A16h_C16m+A16m.\n",
      "C8h E8h+B8h D8h E16h+A16h_E16h+A16m C16h_C16h D8h+B8h C16h_C32h_C32h C16h_E16h A16h_A16h A16h_A16h D16h_D16h.\n",
      "C8h B8h D8h C8h B8h D8h B8h C16h_C16h D8h+B8m B8h C16h_C16h.\n",
      "E16h_E16m E16h+A16h_E16m E16h_E16m E16h+A16h_E16m E16h_E16m E16h+A16h_E16m E16h_E16m E16h+A16h_E16m E16h_E16m E16h+A16h_E16m E16h_E16m E16h+A16h_E16m E16h_E16m E16h+A16h_E16m.\n",
      "C8h E8h+B8h D8h C8h E8h+B8h D8h E16h+A16h_E16h+A16m C16h_C16h D8h+B8h C16h_C32h_C32h C16h_E16h A16h_A16h A16h_A16h D16h_D16h.\n",
      "E16h_E16m E16h+A16h_E16m E16h_E16m E16h+A16h_E16m E16h_E16m E16h+A16h_E16m E16h_E16m E16h+A16h_E16m E16h_E16m E16h+A16h_E16m E16h_E16m E16h+A16h_E16m.\n",
      "C8h B8h D8h C8h B8h D8h C8h B8h D8h C8h B8h.\n",
      "C16h_C16h C16h_C16h D8h+B8h E16h+A16h_A16m+E16h C16h_C16m C8h E8h+B8h D8h E16h+A16h_E16h+A16m C16h_C16m.\n",
      "C16h_C16h C16h_C16h D8h+B8h E16h+A16h_A16m+E16h C16h_C16m C8h E8h+B8h D8h E16h+A16h_E16h+A16m C16h_C16m.\n"
     ]
    }
   ],
   "source": [
    "# マルコフ連鎖で文字列生成\n",
    "markov_samples = []\n",
    "for _ in range(15):\n",
    "    markov_sample = None\n",
    "    while markov_sample == None:\n",
    "        # min_wordsとmax_wordsで単語の最大数最小数を絞ることができる\n",
    "        markov_sample = text_model.make_sentence(min_words=8, max_words=16) # 1小節 ~ 2小節に制限\n",
    "    print(markov_sample)\n",
    "    markov_samples.append(markov_sample)"
   ]
  },
  {
   "cell_type": "markdown",
   "metadata": {},
   "source": [
    "### 生成した文字列をMIDIファイルへ書き出し"
   ]
  },
  {
   "cell_type": "code",
   "execution_count": 7,
   "metadata": {},
   "outputs": [
    {
     "name": "stdout",
     "output_type": "stream",
     "text": [
      "create MIDI file to ./export_markov_chain_midi_file/markov_drum_sample_0.mid.\n",
      "create MIDI file to ./export_markov_chain_midi_file/markov_drum_sample_1.mid.\n",
      "create MIDI file to ./export_markov_chain_midi_file/markov_drum_sample_2.mid.\n",
      "create MIDI file to ./export_markov_chain_midi_file/markov_drum_sample_3.mid.\n",
      "create MIDI file to ./export_markov_chain_midi_file/markov_drum_sample_4.mid.\n",
      "create MIDI file to ./export_markov_chain_midi_file/markov_drum_sample_5.mid.\n",
      "create MIDI file to ./export_markov_chain_midi_file/markov_drum_sample_6.mid.\n",
      "create MIDI file to ./export_markov_chain_midi_file/markov_drum_sample_7.mid.\n",
      "create MIDI file to ./export_markov_chain_midi_file/markov_drum_sample_8.mid.\n",
      "create MIDI file to ./export_markov_chain_midi_file/markov_drum_sample_9.mid.\n",
      "create MIDI file to ./export_markov_chain_midi_file/markov_drum_sample_10.mid.\n",
      "create MIDI file to ./export_markov_chain_midi_file/markov_drum_sample_11.mid.\n",
      "create MIDI file to ./export_markov_chain_midi_file/markov_drum_sample_12.mid.\n",
      "create MIDI file to ./export_markov_chain_midi_file/markov_drum_sample_13.mid.\n",
      "create MIDI file to ./export_markov_chain_midi_file/markov_drum_sample_14.mid.\n"
     ]
    }
   ],
   "source": [
    "TTM = TextToMidi()\n",
    "for i, sample in enumerate(markov_samples):\n",
    "    TTM.save_transform(sample, f'./export_markov_chain_midi_file/markov_drum_sample_{i}.mid')"
   ]
  }
 ],
 "metadata": {
  "kernelspec": {
   "display_name": "Python 3.9.11 ('.venv': poetry)",
   "language": "python",
   "name": "python3"
  },
  "language_info": {
   "codemirror_mode": {
    "name": "ipython",
    "version": 3
   },
   "file_extension": ".py",
   "mimetype": "text/x-python",
   "name": "python",
   "nbconvert_exporter": "python",
   "pygments_lexer": "ipython3",
   "version": "3.9.11"
  },
  "orig_nbformat": 4,
  "vscode": {
   "interpreter": {
    "hash": "f7054547a7f955a787ea0ec2c205cbdd3bb846fb5e4230b652bc8812b83544a0"
   }
  }
 },
 "nbformat": 4,
 "nbformat_minor": 2
}
